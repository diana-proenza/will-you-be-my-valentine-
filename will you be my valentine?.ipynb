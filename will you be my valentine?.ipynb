{
 "cells": [
  {
   "cell_type": "code",
   "execution_count": 1,
   "metadata": {},
   "outputs": [],
   "source": [
    "import turtle\n",
    "screen = turtle.Screen()\n",
    "\n",
    "t1=turtle.Turtle()\n",
    "\n",
    "turtle.bgcolor(\"black\")\n",
    "turtle.pensize(2)\n",
    "\n",
    "def curve():\n",
    "    for i in range(200):\n",
    "        turtle.right(1)\n",
    "        turtle.forward(1)\n",
    "        \n",
    "        \n",
    "turtle.speed(0)\n",
    "turtle.color(\"white\", \"purple\")\n",
    "\n",
    "turtle.begin_fill()\n",
    "turtle.left(140)\n",
    "turtle.forward(111.65)\n",
    "curve()\n",
    "\n",
    "turtle.left(120)\n",
    "curve()\n",
    "turtle.forward(111.65)\n",
    "turtle.end_fill()\n",
    "turtle.hideturtle\n",
    "\n",
    "screen.addshape(\"smallvalentine.gif\")\n",
    "t1.shape(\"smallvalentine.gif\")\n",
    "\n",
    "turtle.write(\"i heard you like memes\", align='center', font=(\"Comic Sans MS\", 60, \"normal\"))\n",
    "turtle.color(\"white\")"
   ]
  }
 ],
 "metadata": {
  "kernelspec": {
   "display_name": "Python 3",
   "language": "python",
   "name": "python3"
  },
  "language_info": {
   "codemirror_mode": {
    "name": "ipython",
    "version": 3
   },
   "file_extension": ".py",
   "mimetype": "text/x-python",
   "name": "python",
   "nbconvert_exporter": "python",
   "pygments_lexer": "ipython3",
   "version": "3.7.6"
  }
 },
 "nbformat": 4,
 "nbformat_minor": 4
}
